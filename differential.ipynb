{
 "cells": [
  {
   "cell_type": "code",
   "execution_count": 3,
   "metadata": {},
   "outputs": [
    {
     "data": {
      "text/latex": [
       "$\\displaystyle \\text{Given function: } f(x, y) = x^{2} y + y^{2}$"
      ],
      "text/plain": [
       "<IPython.core.display.Math object>"
      ]
     },
     "metadata": {},
     "output_type": "display_data"
    },
    {
     "data": {
      "text/latex": [
       "$\\displaystyle \\text{Ordinary derivative with respect to } x:$"
      ],
      "text/plain": [
       "<IPython.core.display.Math object>"
      ]
     },
     "metadata": {},
     "output_type": "display_data"
    },
    {
     "data": {
      "text/latex": [
       "$\\displaystyle \\frac{d}{dx} \\left( x^{2} y + y^{2} \\right) = 2 x y$"
      ],
      "text/plain": [
       "<IPython.core.display.Math object>"
      ]
     },
     "metadata": {},
     "output_type": "display_data"
    },
    {
     "data": {
      "text/latex": [
       "$\\displaystyle \\text{Partial derivative with respect to } x:$"
      ],
      "text/plain": [
       "<IPython.core.display.Math object>"
      ]
     },
     "metadata": {},
     "output_type": "display_data"
    },
    {
     "data": {
      "text/latex": [
       "$\\displaystyle \\frac{\\partial}{\\partial x} \\left( x^{2} y + y^{2} \\right) = 2 x y$"
      ],
      "text/plain": [
       "<IPython.core.display.Math object>"
      ]
     },
     "metadata": {},
     "output_type": "display_data"
    },
    {
     "data": {
      "text/latex": [
       "$\\displaystyle \\text{Detailed step-by-step solution for } \\frac{\\partial}{\\partial x:$"
      ],
      "text/plain": [
       "<IPython.core.display.Math object>"
      ]
     },
     "metadata": {},
     "output_type": "display_data"
    },
    {
     "data": {
      "text/latex": [
       "$\\displaystyle \\text{Step 1: Expand the function } x^{2} y + y^{2}$"
      ],
      "text/plain": [
       "<IPython.core.display.Math object>"
      ]
     },
     "metadata": {},
     "output_type": "display_data"
    },
    {
     "data": {
      "text/latex": [
       "$\\displaystyle \\text{Step 2: Compute the derivative of } x^{2} y + y^{2} \\text{ with respect to } x: 2 x y$"
      ],
      "text/plain": [
       "<IPython.core.display.Math object>"
      ]
     },
     "metadata": {},
     "output_type": "display_data"
    },
    {
     "data": {
      "text/latex": [
       "$\\displaystyle \\text{Final result: } 2 x y$"
      ],
      "text/plain": [
       "<IPython.core.display.Math object>"
      ]
     },
     "metadata": {},
     "output_type": "display_data"
    },
    {
     "data": {
      "text/latex": [
       "$\\displaystyle \\text{Partial derivative with respect to } y:$"
      ],
      "text/plain": [
       "<IPython.core.display.Math object>"
      ]
     },
     "metadata": {},
     "output_type": "display_data"
    },
    {
     "data": {
      "text/latex": [
       "$\\displaystyle \\frac{\\partial}{\\partial y} \\left( x^{2} y + y^{2} \\right) = x^{2} + 2 y$"
      ],
      "text/plain": [
       "<IPython.core.display.Math object>"
      ]
     },
     "metadata": {},
     "output_type": "display_data"
    },
    {
     "data": {
      "text/latex": [
       "$\\displaystyle \\text{Detailed step-by-step solution for } \\frac{\\partial}{\\partial y:$"
      ],
      "text/plain": [
       "<IPython.core.display.Math object>"
      ]
     },
     "metadata": {},
     "output_type": "display_data"
    },
    {
     "data": {
      "text/latex": [
       "$\\displaystyle \\text{Step 1: Expand the function } x^{2} y + y^{2}$"
      ],
      "text/plain": [
       "<IPython.core.display.Math object>"
      ]
     },
     "metadata": {},
     "output_type": "display_data"
    },
    {
     "data": {
      "text/latex": [
       "$\\displaystyle \\text{Step 2: Compute the derivative of } x^{2} y + y^{2} \\text{ with respect to } y: x^{2} + 2 y$"
      ],
      "text/plain": [
       "<IPython.core.display.Math object>"
      ]
     },
     "metadata": {},
     "output_type": "display_data"
    },
    {
     "data": {
      "text/latex": [
       "$\\displaystyle \\text{Final result: } x^{2} + 2 y$"
      ],
      "text/plain": [
       "<IPython.core.display.Math object>"
      ]
     },
     "metadata": {},
     "output_type": "display_data"
    },
    {
     "data": {
      "text/plain": [
       "(2*x*y, {x: 2*x*y, y: x**2 + 2*y})"
      ]
     },
     "execution_count": 3,
     "metadata": {},
     "output_type": "execute_result"
    }
   ],
   "source": [
    "import sympy as sp\n",
    "from IPython.display import display, Math\n",
    "\n",
    "def compute_differentiation(expr, variables):\n",
    "    \"\"\"\n",
    "    Computes and displays the ordinary and partial derivatives of a given function with respect to each variable.\n",
    "    \n",
    "    Parameters:\n",
    "    - expr: The function to differentiate.\n",
    "    - variables: List of variables with respect to which partial differentiation is performed.\n",
    "    \"\"\"\n",
    "    # Define the symbols\n",
    "    symbols = sp.symbols(variables)\n",
    "    \n",
    "    # Display the original function\n",
    "    display(Math(r\"\\text{Given function: } f(\" + \", \".join(variables) + r\") = \" + sp.latex(expr)))\n",
    "    \n",
    "    # Compute and display the ordinary derivative with respect to the first variable in the list\n",
    "    if symbols:\n",
    "        ord_var = symbols[0]\n",
    "        ord_derivative = sp.diff(expr, ord_var)\n",
    "        \n",
    "        display(Math(r\"\\text{Ordinary derivative with respect to } \" + sp.latex(ord_var) + r\":\"))\n",
    "        display(Math(r\"\\frac{d}{d\" + sp.latex(ord_var) + r\"} \\left( \" + sp.latex(expr) + r\" \\right) = \" + sp.latex(ord_derivative)))\n",
    "    \n",
    "    # Compute and display partial derivatives with respect to each variable\n",
    "    for var in symbols:\n",
    "        partial_derivative = sp.diff(expr, var)\n",
    "        \n",
    "        # Display each partial derivative\n",
    "        display(Math(r\"\\text{Partial derivative with respect to } \" + sp.latex(var) + r\":\"))\n",
    "        display(Math(r\"\\frac{\\partial}{\\partial \" + sp.latex(var) + r\"} \\left( \" + sp.latex(expr) + r\" \\right) = \" + sp.latex(partial_derivative)))\n",
    "        \n",
    "        # Show detailed step-by-step solution\n",
    "        display(Math(r\"\\text{Detailed step-by-step solution for } \\frac{\\partial}{\\partial \" + sp.latex(var) + r\":\"))\n",
    "        # Note: For more detailed steps, custom logic may be required based on the complexity of expressions\n",
    "        expanded_expr = sp.expand(expr)\n",
    "        diff_expr = sp.diff(expanded_expr, var)\n",
    "        display(Math(r\"\\text{Step 1: Expand the function } \" + sp.latex(expanded_expr)))\n",
    "        display(Math(r\"\\text{Step 2: Compute the derivative of } \" + sp.latex(expanded_expr) + r\" \\text{ with respect to } \" + sp.latex(var) + r\": \" + sp.latex(diff_expr)))\n",
    "        display(Math(r\"\\text{Final result: } \" + sp.latex(diff_expr)))\n",
    "    \n",
    "    # Return the derivatives for further use if needed\n",
    "    return ord_derivative, {var: sp.diff(expr, var) for var in symbols}\n",
    "\n",
    "# Example usage\n",
    "x, y = sp.symbols('x y')\n",
    "expr = x**2 * y + y**2\n",
    "variables = ['x', 'y']\n",
    "\n",
    "# Compute and display derivatives\n",
    "compute_differentiation(expr, variables)"
   ]
  },
  {
   "cell_type": "code",
   "execution_count": null,
   "metadata": {},
   "outputs": [],
   "source": []
  }
 ],
 "metadata": {
  "kernelspec": {
   "display_name": "base",
   "language": "python",
   "name": "python3"
  },
  "language_info": {
   "codemirror_mode": {
    "name": "ipython",
    "version": 3
   },
   "file_extension": ".py",
   "mimetype": "text/x-python",
   "name": "python",
   "nbconvert_exporter": "python",
   "pygments_lexer": "ipython3",
   "version": "3.12.4"
  }
 },
 "nbformat": 4,
 "nbformat_minor": 2
}
